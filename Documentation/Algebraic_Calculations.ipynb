{
 "cells": [
  {
   "cell_type": "markdown",
   "metadata": {},
   "source": [
    "# Algebraic Calculations for Deriving Direct Stiffness Equations\n",
    "[See full documentaiton for derivations](https://github.com/BrianChevalier/StructPy/blob/master/Documentation/Main.pdf)"
   ]
  },
  {
   "cell_type": "code",
   "execution_count": 1,
   "metadata": {},
   "outputs": [],
   "source": [
    "import sympy as sp\n",
    "import numpy as np"
   ]
  },
  {
   "cell_type": "code",
   "execution_count": 3,
   "metadata": {},
   "outputs": [],
   "source": [
    "s, c = sp.symbol.symbols('s c')"
   ]
  },
  {
   "cell_type": "markdown",
   "metadata": {},
   "source": [
    "The following function and imports will be used to display matrix results"
   ]
  },
  {
   "cell_type": "code",
   "execution_count": 86,
   "metadata": {},
   "outputs": [],
   "source": [
    "import IPython\n",
    "\n",
    "def bmatrix(a):\n",
    "    \"\"\"Returns a LaTeX bmatrix\n",
    "\n",
    "    :a: numpy array\n",
    "    :returns: LaTeX bmatrix as a string\n",
    "    \"\"\"\n",
    "    if len(a.shape) > 2:\n",
    "        raise ValueError('bmatrix can at most display two dimensions')\n",
    "    #lines = str(a).replace('[', '').replace(']', '').splitlines()\n",
    "    rv = [r'\\begin{bmatrix}'+ '\\n']\n",
    "    \n",
    "    nrows, ncols = a.shape\n",
    "    row = ''\n",
    "    for i in range(nrows):\n",
    "        for j in range(ncols):\n",
    "            if j == ncols-1:\n",
    "                sep = ''\n",
    "            else:\n",
    "                sep = r'&'\n",
    "            row += str(a[i, j]).replace('**', '^').replace('*', '') + sep\n",
    "        \n",
    "        rv += row + r'\\\\' + '\\n'\n",
    "        row = ''\n",
    "        \n",
    "    #rv += ['  ' + ' & '.join(l.split()) + r'\\\\' for l in lines]\n",
    "    rv +=  [r'\\end{bmatrix}']\n",
    "    return ''.join(rv)\n",
    "\n",
    "# The following funciton is used to display the latex output from the matrix operations\n",
    "def displatex(a):\n",
    "    return IPython.display.Latex(bmatrix(a))"
   ]
  },
  {
   "cell_type": "code",
   "execution_count": 88,
   "metadata": {
    "scrolled": false
   },
   "outputs": [
    {
     "data": {
      "text/latex": [
       "\\begin{bmatrix}\n",
       "c^2&cs&-c^2&-cs\\\\\n",
       "cs&s^2&-cs&-s^2\\\\\n",
       "-c^2&-cs&c^2&cs\\\\\n",
       "-cs&-s^2&cs&s^2\\\\\n",
       "\\end{bmatrix}"
      ],
      "text/plain": [
       "<IPython.core.display.Latex object>"
      ]
     },
     "execution_count": 88,
     "metadata": {},
     "output_type": "execute_result"
    }
   ],
   "source": [
    "T = [[c, -s, 0, 0],[s, c, 0, 0],[0, 0, c, -s],[0, 0, s, c]]\n",
    "k = [[1, 0, -1, 0],[0, 0, 0, 0],[-1, 0, 1, 0],[0, 0, 0, 0]]\n",
    "K = np.matrix(T) * np.matrix(k) * np.matrix(T).T\n",
    "displatex(K)"
   ]
  },
  {
   "cell_type": "markdown",
   "metadata": {},
   "source": [
    "# Frame Member Stiffness Matrix Derivation\n",
    "\n",
    "The local frame element equation is:\n",
    "\n",
    "\\begin{align}\n",
    "\t\\begin{Bmatrix}\n",
    "\t\tN_0\\\\ V_0\\\\ M_0\\\\ \\hline N_L\\\\ V_L\\\\ M_L\n",
    "\t\\end{Bmatrix}\n",
    "\t=\n",
    "\t\\left[\n",
    "\t\\begin{array}{c|cc|c|cc}\n",
    "\t\te & 0 & 0 & -e & 0 & 0\\\\ \\hline\n",
    "\t\t0 & a & b & 0 & -a & b\\\\\n",
    "\t\t0 & b & c & 0 & -b & d\\\\ \\hline\n",
    "\t\t-e & 0 & 0 & e & 0 & 0\\\\ \\hline\n",
    "\t\t0 & -a & -b & 0 & a & -b\\\\\n",
    "\t\t0 & b & d & 0 & -b & c\n",
    "\t\\end{array}\n",
    "\t\\right]\n",
    "\t\\begin{Bmatrix}\n",
    "\t\tu_0\\\\ w_0\\\\ \\theta_0\\\\ \\hline u_L\\\\ w_L\\\\ \\theta_L\n",
    "\t\\end{Bmatrix}\n",
    "\\end{align}"
   ]
  },
  {
   "cell_type": "code",
   "execution_count": 89,
   "metadata": {},
   "outputs": [],
   "source": [
    "# Define symbols to be used\n",
    "a, b, c, d, e, l, m = sp.symbol.symbols('a b c d e l m')"
   ]
  },
  {
   "cell_type": "code",
   "execution_count": 90,
   "metadata": {},
   "outputs": [],
   "source": [
    "v1 = [e,  0,  0,  -e, 0,  0]\n",
    "v2 = [0,  a,  b,  0, -a,  b]\n",
    "v3 = [0,  b,  c,  0, -b,  d]\n",
    "v4 = [-e, 0,  0,  e, 0,   0]\n",
    "v5 = [0,  -a, -b, 0, a,  -b]\n",
    "v6 = [0,  b,  d,  0, -b,  c]"
   ]
  },
  {
   "cell_type": "code",
   "execution_count": 91,
   "metadata": {},
   "outputs": [
    {
     "data": {
      "text/latex": [
       "\\begin{bmatrix}\n",
       "e&0&0&-e&0&0\\\\\n",
       "0&a&b&0&-a&b\\\\\n",
       "0&b&c&0&-b&d\\\\\n",
       "-e&0&0&e&0&0\\\\\n",
       "0&-a&-b&0&a&-b\\\\\n",
       "0&b&d&0&-b&c\\\\\n",
       "\\end{bmatrix}"
      ],
      "text/plain": [
       "<IPython.core.display.Latex object>"
      ]
     },
     "execution_count": 91,
     "metadata": {},
     "output_type": "execute_result"
    }
   ],
   "source": [
    "K = np.matrix([v1, v2, v3, v4, v5, v6])\n",
    "displatex(K)"
   ]
  },
  {
   "cell_type": "markdown",
   "metadata": {},
   "source": [
    "The frame rotation matrix is:\n",
    "\n",
    "\\begin{equation}\n",
    "\t\\begin{Bmatrix}\n",
    "\t\tu_x\\\\ u_y\\\\ \\theta\n",
    "\t\\end{Bmatrix}\n",
    "\t=\n",
    "\t\\begin{bmatrix}\n",
    "\t\t\\cos\\theta & -\\sin\\theta & 0\\\\\n",
    "\t\t\\sin\\theta & \\cos\\theta & 0\\\\\n",
    "\t\t0 & 0 & 1\n",
    "\t\\end{bmatrix}\n",
    "\t\\begin{Bmatrix}\n",
    "\t\tu_x'\\\\ u_y'\\\\ \\theta'\n",
    "\t\\end{Bmatrix}\n",
    "\\end{equation}"
   ]
  },
  {
   "cell_type": "code",
   "execution_count": 94,
   "metadata": {},
   "outputs": [
    {
     "data": {
      "text/latex": [
       "\\begin{bmatrix}\n",
       "l&-m&0&0.0&0.0&0.0\\\\\n",
       "m&l&0&0.0&0.0&0.0\\\\\n",
       "0&0&1&0.0&0.0&0.0\\\\\n",
       "0.0&0.0&0.0&l&-m&0\\\\\n",
       "0.0&0.0&0.0&m&l&0\\\\\n",
       "0.0&0.0&0.0&0&0&1\\\\\n",
       "\\end{bmatrix}"
      ],
      "text/plain": [
       "<IPython.core.display.Latex object>"
      ]
     },
     "execution_count": 94,
     "metadata": {},
     "output_type": "execute_result"
    }
   ],
   "source": [
    "T = np.matrix([[l, -m, 0], [m, l, 0], [0, 0, 1]])\n",
    "zero = np.asmatrix(np.zeros((3,3)))\n",
    "T = np.block([[T, zero], [zero, T]])\n",
    "displatex(T)"
   ]
  },
  {
   "cell_type": "code",
   "execution_count": 95,
   "metadata": {},
   "outputs": [],
   "source": [
    "KFrameMemberGlobal = T * K * (T.T)"
   ]
  },
  {
   "cell_type": "code",
   "execution_count": 81,
   "metadata": {
    "scrolled": true
   },
   "outputs": [
    {
     "data": {
      "text/latex": [
       "\\begin{bmatrix}\n",
       "am^2 + el^2&-alm + elm&-bm&-am^2 - el^2&alm - elm&-bm&\\\\\n",
       "-alm + elm&al^2 + em^2&bl&alm - elm&-al^2 - em^2&bl&\\\\\n",
       "-bm&bl&c&bm&-bl&d&\\\\\n",
       "-am^2 - el^2&alm - elm&bm&am^2 + el^2&-alm + elm&bm&\\\\\n",
       "alm - elm&-al^2 - em^2&-bl&-alm + elm&al^2 + em^2&-bl&\\\\\n",
       "-bm&bl&d&bm&-bl&c&\\\\\n",
       "\\end{bmatrix}"
      ],
      "text/plain": [
       "<IPython.core.display.Latex object>"
      ]
     },
     "execution_count": 81,
     "metadata": {},
     "output_type": "execute_result"
    }
   ],
   "source": [
    "displatex(KFrameMemberGlobal)"
   ]
  }
 ],
 "metadata": {
  "kernelspec": {
   "display_name": "Python 3.6",
   "language": "python",
   "name": "python36"
  },
  "language_info": {
   "codemirror_mode": {
    "name": "ipython",
    "version": 3
   },
   "file_extension": ".py",
   "mimetype": "text/x-python",
   "name": "python",
   "nbconvert_exporter": "python",
   "pygments_lexer": "ipython3",
   "version": "3.6.3"
  }
 },
 "nbformat": 4,
 "nbformat_minor": 2
}
