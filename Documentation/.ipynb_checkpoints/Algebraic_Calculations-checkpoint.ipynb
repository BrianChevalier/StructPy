{
 "cells": [
  {
   "cell_type": "markdown",
   "metadata": {},
   "source": [
    "# Algebraic Calculations for Deriving Direct Stiffness Equations\n",
    "[See full documentaiton for derivations](https://github.com/BrianChevalier/StructPy/blob/master/Documentation/Main.pdf)"
   ]
  },
  {
   "cell_type": "code",
   "execution_count": 1,
   "metadata": {},
   "outputs": [],
   "source": [
    "import sympy as sp\n",
    "import numpy as np"
   ]
  },
  {
   "cell_type": "code",
   "execution_count": 3,
   "metadata": {},
   "outputs": [],
   "source": [
    "s, c = sp.symbol.symbols('s c')"
   ]
  },
  {
   "cell_type": "code",
   "execution_count": 4,
   "metadata": {},
   "outputs": [],
   "source": [
    "from sympy import init_printing\n",
    "\n",
    "def bmatrix(input):\n",
    "    \"\"\"Returns a LaTeX bmatrix\n",
    "\n",
    "    :a: numpy array\n",
    "    :returns: LaTeX bmatrix as a string\n",
    "    \"\"\"\n",
    "    if len(a.shape) > 2:\n",
    "        raise ValueError('bmatrix can at most display two dimensions')\n",
    "    lines = str(a).replace('[', '').replace(']', '').splitlines()\n",
    "    rv = [r'\\begin{bmatrix}']\n",
    "    nrows, ncols = KFrameMemberGlobal.shape\n",
    "    row = ''\n",
    "    for i in range(nrows):\n",
    "        for j in range(ncols):\n",
    "            row += str(KFrameMemberGlobal[i, j]).replace('**', '^').replace('*', '') + r'&'\n",
    "    \n",
    "        rv += row + r'\\\\' + '\\n'\n",
    "        row = ''\n",
    "        \n",
    "    #rv += ['  ' + ' & '.join(l.split()) + r'\\\\' for l in lines]\n",
    "    rv +=  [r'\\end{bmatrix}']\n",
    "    return '\\n'.join(rv)"
   ]
  },
  {
   "cell_type": "code",
   "execution_count": 5,
   "metadata": {
    "scrolled": false
   },
   "outputs": [
    {
     "ename": "NameError",
     "evalue": "name 'KFrameMemberGlobal' is not defined",
     "output_type": "error",
     "traceback": [
      "\u001b[0;31m---------------------------------------------------------------------------\u001b[0m",
      "\u001b[0;31mNameError\u001b[0m                                 Traceback (most recent call last)",
      "\u001b[0;32m<ipython-input-5-b787baa69c6d>\u001b[0m in \u001b[0;36m<module>\u001b[0;34m()\u001b[0m\n\u001b[1;32m      3\u001b[0m \u001b[0;31m#T*k* Transpose[T]\u001b[0m\u001b[0;34m\u001b[0m\u001b[0;34m\u001b[0m\u001b[0m\n\u001b[1;32m      4\u001b[0m \u001b[0mK\u001b[0m \u001b[0;34m=\u001b[0m \u001b[0mnp\u001b[0m\u001b[0;34m.\u001b[0m\u001b[0mmatrix\u001b[0m\u001b[0;34m(\u001b[0m\u001b[0mT\u001b[0m\u001b[0;34m)\u001b[0m \u001b[0;34m*\u001b[0m \u001b[0mnp\u001b[0m\u001b[0;34m.\u001b[0m\u001b[0mmatrix\u001b[0m\u001b[0;34m(\u001b[0m\u001b[0mk\u001b[0m\u001b[0;34m)\u001b[0m \u001b[0;34m*\u001b[0m \u001b[0mnp\u001b[0m\u001b[0;34m.\u001b[0m\u001b[0mmatrix\u001b[0m\u001b[0;34m(\u001b[0m\u001b[0mT\u001b[0m\u001b[0;34m)\u001b[0m\u001b[0;34m.\u001b[0m\u001b[0mT\u001b[0m\u001b[0;34m\u001b[0m\u001b[0m\n\u001b[0;32m----> 5\u001b[0;31m \u001b[0mprint\u001b[0m\u001b[0;34m(\u001b[0m\u001b[0mbmatrix\u001b[0m\u001b[0;34m(\u001b[0m\u001b[0mK\u001b[0m\u001b[0;34m)\u001b[0m\u001b[0;34m)\u001b[0m\u001b[0;34m\u001b[0m\u001b[0m\n\u001b[0m",
      "\u001b[0;32m<ipython-input-4-c0a5c8c0ab22>\u001b[0m in \u001b[0;36mbmatrix\u001b[0;34m(a)\u001b[0m\n\u001b[1;32m     11\u001b[0m     \u001b[0mlines\u001b[0m \u001b[0;34m=\u001b[0m \u001b[0mstr\u001b[0m\u001b[0;34m(\u001b[0m\u001b[0ma\u001b[0m\u001b[0;34m)\u001b[0m\u001b[0;34m.\u001b[0m\u001b[0mreplace\u001b[0m\u001b[0;34m(\u001b[0m\u001b[0;34m'['\u001b[0m\u001b[0;34m,\u001b[0m \u001b[0;34m''\u001b[0m\u001b[0;34m)\u001b[0m\u001b[0;34m.\u001b[0m\u001b[0mreplace\u001b[0m\u001b[0;34m(\u001b[0m\u001b[0;34m']'\u001b[0m\u001b[0;34m,\u001b[0m \u001b[0;34m''\u001b[0m\u001b[0;34m)\u001b[0m\u001b[0;34m.\u001b[0m\u001b[0msplitlines\u001b[0m\u001b[0;34m(\u001b[0m\u001b[0;34m)\u001b[0m\u001b[0;34m\u001b[0m\u001b[0m\n\u001b[1;32m     12\u001b[0m     \u001b[0mrv\u001b[0m \u001b[0;34m=\u001b[0m \u001b[0;34m[\u001b[0m\u001b[0;34mr'\\begin{bmatrix}'\u001b[0m\u001b[0;34m]\u001b[0m\u001b[0;34m\u001b[0m\u001b[0m\n\u001b[0;32m---> 13\u001b[0;31m     \u001b[0mnrows\u001b[0m\u001b[0;34m,\u001b[0m \u001b[0mncols\u001b[0m \u001b[0;34m=\u001b[0m \u001b[0mKFrameMemberGlobal\u001b[0m\u001b[0;34m.\u001b[0m\u001b[0mshape\u001b[0m\u001b[0;34m\u001b[0m\u001b[0m\n\u001b[0m\u001b[1;32m     14\u001b[0m     \u001b[0mrow\u001b[0m \u001b[0;34m=\u001b[0m \u001b[0;34m''\u001b[0m\u001b[0;34m\u001b[0m\u001b[0m\n\u001b[1;32m     15\u001b[0m     \u001b[0;32mfor\u001b[0m \u001b[0mi\u001b[0m \u001b[0;32min\u001b[0m \u001b[0mrange\u001b[0m\u001b[0;34m(\u001b[0m\u001b[0mnrows\u001b[0m\u001b[0;34m)\u001b[0m\u001b[0;34m:\u001b[0m\u001b[0;34m\u001b[0m\u001b[0m\n",
      "\u001b[0;31mNameError\u001b[0m: name 'KFrameMemberGlobal' is not defined"
     ]
    }
   ],
   "source": [
    "T = [[c, -s, 0, 0],[s, c, 0, 0],[0, 0, c, -s],[0, 0, s, c]]\n",
    "k = [[1, 0, -1, 0],[0, 0, 0, 0],[-1, 0, 1, 0],[0, 0, 0, 0]]\n",
    "#T*k* Transpose[T]\n",
    "K = np.matrix(T) * np.matrix(k) * np.matrix(T).T\n",
    "print(bmatrix(K))"
   ]
  },
  {
   "cell_type": "markdown",
   "metadata": {},
   "source": [
    "# Frame Member Stiffness Matrix Derivation\n",
    "\n",
    "The local frame element equation is:\n",
    "\n",
    "\\begin{align}\n",
    "\t\\begin{Bmatrix}\n",
    "\t\tN_0\\\\ V_0\\\\ M_0\\\\ \\hline N_L\\\\ V_L\\\\ M_L\n",
    "\t\\end{Bmatrix}\n",
    "\t=\n",
    "\t\\left[\n",
    "\t\\begin{array}{c|cc|c|cc}\n",
    "\t\te & 0 & 0 & -e & 0 & 0\\\\ \\hline\n",
    "\t\t0 & a & b & 0 & -a & b\\\\\n",
    "\t\t0 & b & c & 0 & -b & d\\\\ \\hline\n",
    "\t\t-e & 0 & 0 & e & 0 & 0\\\\ \\hline\n",
    "\t\t0 & -a & -b & 0 & a & -b\\\\\n",
    "\t\t0 & b & d & 0 & -b & c\n",
    "\t\\end{array}\n",
    "\t\\right]\n",
    "\t\\begin{Bmatrix}\n",
    "\t\tu_0\\\\ w_0\\\\ \\theta_0\\\\ \\hline u_L\\\\ w_L\\\\ \\theta_L\n",
    "\t\\end{Bmatrix}\n",
    "\\end{align}"
   ]
  },
  {
   "cell_type": "code",
   "execution_count": 121,
   "metadata": {},
   "outputs": [],
   "source": [
    "# Define symbols to be used\n",
    "a, b, c, d, e, l, m = sp.symbol.symbols('a b c d e l m')"
   ]
  },
  {
   "cell_type": "code",
   "execution_count": 122,
   "metadata": {},
   "outputs": [],
   "source": [
    "v1 = [e,  0,  0,  -e, 0,  0]\n",
    "v2 = [0,  a,  b,  0, -a,  b]\n",
    "v3 = [0,  b,  c,  0, -b,  d]\n",
    "v4 = [-e, 0,  0,  e, 0,   0]\n",
    "v5 = [0,  -a, -b, 0, a,  -b]\n",
    "v6 = [0,  b,  d,  0, -b,  c]"
   ]
  },
  {
   "cell_type": "code",
   "execution_count": 123,
   "metadata": {},
   "outputs": [],
   "source": [
    "K = np.matrix([v1, v2, v3, v4, v5, v6])"
   ]
  },
  {
   "cell_type": "markdown",
   "metadata": {},
   "source": [
    "The frame rotation matrix is:\n",
    "\n",
    "\\begin{equation}\n",
    "\t\\begin{Bmatrix}\n",
    "\t\tu_x\\\\ u_y\\\\ \\theta\n",
    "\t\\end{Bmatrix}\n",
    "\t=\n",
    "\t\\begin{bmatrix}\n",
    "\t\t\\cos\\theta & -\\sin\\theta & 0\\\\\n",
    "\t\t\\sin\\theta & \\cos\\theta & 0\\\\\n",
    "\t\t0 & 0 & 1\n",
    "\t\\end{bmatrix}\n",
    "\t\\begin{Bmatrix}\n",
    "\t\tu_x'\\\\ u_y'\\\\ \\theta'\n",
    "\t\\end{Bmatrix}\n",
    "\\end{equation}"
   ]
  },
  {
   "cell_type": "code",
   "execution_count": 124,
   "metadata": {},
   "outputs": [
    {
     "data": {
      "text/plain": [
       "matrix([[l, -m, 0, 0.0, 0.0, 0.0],\n",
       "        [m, l, 0, 0.0, 0.0, 0.0],\n",
       "        [0, 0, 1, 0.0, 0.0, 0.0],\n",
       "        [0.0, 0.0, 0.0, l, -m, 0],\n",
       "        [0.0, 0.0, 0.0, m, l, 0],\n",
       "        [0.0, 0.0, 0.0, 0, 0, 1]], dtype=object)"
      ]
     },
     "execution_count": 124,
     "metadata": {},
     "output_type": "execute_result"
    }
   ],
   "source": [
    "T = np.matrix([[l, -m, 0], [m, l, 0], [0, 0, 1]])\n",
    "zero = np.asmatrix(np.zeros((3,3)))\n",
    "#T = np.vstack(np.hstack(T, zero), np.hstack(zero, T))\n",
    "T = np.block([[T, zero], [zero, T]])\n",
    "T"
   ]
  },
  {
   "cell_type": "code",
   "execution_count": 125,
   "metadata": {},
   "outputs": [
    {
     "data": {
      "text/plain": [
       "matrix([[e, 0, 0, -e, 0, 0],\n",
       "        [0, a, b, 0, -a, b],\n",
       "        [0, b, c, 0, -b, d],\n",
       "        [-e, 0, 0, e, 0, 0],\n",
       "        [0, -a, -b, 0, a, -b],\n",
       "        [0, b, d, 0, -b, c]], dtype=object)"
      ]
     },
     "execution_count": 125,
     "metadata": {},
     "output_type": "execute_result"
    }
   ],
   "source": [
    "K"
   ]
  },
  {
   "cell_type": "code",
   "execution_count": 126,
   "metadata": {},
   "outputs": [],
   "source": [
    "KFrameMemberGlobal = T * K * (T.T)"
   ]
  },
  {
   "cell_type": "code",
   "execution_count": 127,
   "metadata": {
    "scrolled": true
   },
   "outputs": [
    {
     "name": "stdout",
     "output_type": "stream",
     "text": [
      "am^2 + el^2&-alm + elm&-bm&-am^2 - el^2&alm - elm&-bm&\\\\\n",
      "-alm + elm&al^2 + em^2&bl&alm - elm&-al^2 - em^2&bl&\\\\\n",
      "-bm&bl&c&bm&-bl&d&\\\\\n",
      "-am^2 - el^2&alm - elm&bm&am^2 + el^2&-alm + elm&bm&\\\\\n",
      "alm - elm&-al^2 - em^2&-bl&-alm + elm&al^2 + em^2&-bl&\\\\\n",
      "-bm&bl&d&bm&-bl&c&\\\\\n",
      "\n"
     ]
    }
   ],
   "source": []
  },
  {
   "cell_type": "markdown",
   "metadata": {},
   "source": [
    "\\begin{bmatrix}\n",
    "am^2 + el^2&-alm + elm&-bm&-am^2 - el^2&alm - elm&-bm&\\\\\n",
    "-alm + elm&al^2 + em^2&bl&alm - elm&-al^2 - em^2&bl&\\\\\n",
    "-bm&bl&c&bm&-bl&d&\\\\\n",
    "-am^2 - el^2&alm - elm&bm&am^2 + el^2&-alm + elm&bm&\\\\\n",
    "alm - elm&-al^2 - em^2&-bl&-alm + elm&al^2 + em^2&-bl&\\\\\n",
    "-bm&bl&d&bm&-bl&c&\\\\\n",
    "\\end{bmatrix}"
   ]
  },
  {
   "cell_type": "code",
   "execution_count": null,
   "metadata": {},
   "outputs": [],
   "source": []
  },
  {
   "cell_type": "code",
   "execution_count": null,
   "metadata": {},
   "outputs": [],
   "source": []
  }
 ],
 "metadata": {
  "kernelspec": {
   "display_name": "Python 3.6",
   "language": "python",
   "name": "python36"
  },
  "language_info": {
   "codemirror_mode": {
    "name": "ipython",
    "version": 3
   },
   "file_extension": ".py",
   "mimetype": "text/x-python",
   "name": "python",
   "nbconvert_exporter": "python",
   "pygments_lexer": "ipython3",
   "version": "3.6.3"
  }
 },
 "nbformat": 4,
 "nbformat_minor": 2
}
